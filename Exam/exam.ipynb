{
 "cells": [
  {
   "cell_type": "markdown",
   "metadata": {},
   "source": [
    "Створити клас з класовим методом та класовою змінною"
   ]
  },
  {
   "cell_type": "code",
   "execution_count": 3,
   "metadata": {},
   "outputs": [
    {
     "name": "stdout",
     "output_type": "stream",
     "text": [
      "Кількість створених об'єктів: 3\n"
     ]
    }
   ],
   "source": [
    "class ExampleClass:\n",
    "    # Класова змінна\n",
    "    class_variable = 0\n",
    "\n",
    "    def __init__(self):\n",
    "        # При створенні нового об'єкта збільшуємо класову змінну\n",
    "        ExampleClass.class_variable += 1\n",
    "\n",
    "    @classmethod\n",
    "    def get_instance_count(cls):\n",
    "        \"\"\"Класовий метод для отримання кількості створених об'єктів.\"\"\"\n",
    "        return f\"Кількість створених об'єктів: {cls.class_variable}\"\n",
    "\n",
    "# Створення об'єктів класу\n",
    "obj1 = ExampleClass()\n",
    "obj2 = ExampleClass()\n",
    "obj3 = ExampleClass()\n",
    "\n",
    "# Використання класового методу\n",
    "print(ExampleClass.get_instance_count())  # Виведе: Кількість створених об'єктів: 3\n"
   ]
  }
 ],
 "metadata": {
  "kernelspec": {
   "display_name": "Python 3",
   "language": "python",
   "name": "python3"
  },
  "language_info": {
   "codemirror_mode": {
    "name": "ipython",
    "version": 3
   },
   "file_extension": ".py",
   "mimetype": "text/x-python",
   "name": "python",
   "nbconvert_exporter": "python",
   "pygments_lexer": "ipython3",
   "version": "3.13.0"
  }
 },
 "nbformat": 4,
 "nbformat_minor": 2
}
